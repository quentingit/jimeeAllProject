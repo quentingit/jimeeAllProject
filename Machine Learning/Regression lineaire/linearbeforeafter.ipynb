{
 "cells": [
  {
   "cell_type": "markdown",
   "metadata": {},
   "source": [
    "# REGRESSION LINEAIRE SIMPLE\n",
    "\n",
    "2 Datasets de données qui ont collectés, puis nettoyées:\n",
    "- nombre followers avant et apres periode\n",
    "- likes de posts (moyenne de 3 posts) selon le nombre de followers\n",
    "\n",
    "le but est d'avoir une equation de droite qui permet de predire:\n",
    "- le nombre de followers dans une periode\n",
    "- le nombre de likes moyen par post \n"
   ]
  },
  {
   "cell_type": "markdown",
   "metadata": {},
   "source": [
    "# FOLLOWERS WIN"
   ]
  },
  {
   "cell_type": "code",
   "execution_count": 614,
   "metadata": {},
   "outputs": [],
   "source": [
    "%matplotlib inline\n",
    "\n",
    "#imports\n",
    "from numpy import *\n",
    "import matplotlib.pyplot as plt\n",
    "#import pandas as pd "
   ]
  },
  {
   "cell_type": "markdown",
   "metadata": {
    "collapsed": true
   },
   "source": [
    "#### Import the data\n",
    "Here, we're using a dataset with two columns containing the amount of hours studied and the test scores students achieved, respectively."
   ]
  },
  {
   "cell_type": "code",
   "execution_count": 615,
   "metadata": {},
   "outputs": [],
   "source": [
    "points = genfromtxt('challenge_dataset.csv', delimiter=',')\n",
    "\n",
    "#data = pd.read_csv(\"challenge_dataset.csv\") \n",
    "# Preview the first 5 lines of the loaded data \n",
    "#data.head()"
   ]
  },
  {
   "cell_type": "code",
   "execution_count": 616,
   "metadata": {},
   "outputs": [
    {
     "data": {
      "image/png": "[encoded data removed]",
      "text/plain": [
       "<Figure size 432x288 with 1 Axes>"
      ]
     },
     "metadata": {
      "needs_background": "light"
     },
     "output_type": "display_data"
    }
   ],
   "source": [
    "\n",
    "#Extract columns\n",
    "x = array(points[:,0])\n",
    "y = array(points[:,1])\n",
    "\n",
    "\n",
    "#Plot the dataset\n",
    "plt.scatter(x,y)\n",
    "plt.xlabel('folowers')\n",
    "plt.ylabel('followers gagnés')\n",
    "plt.title('Dataset')\n",
    "plt.show()"
   ]
  },
  {
   "cell_type": "markdown",
   "metadata": {},
   "source": [
    "#### Defining the hyperparamters"
   ]
  },
  {
   "cell_type": "code",
   "execution_count": 623,
   "metadata": {},
   "outputs": [],
   "source": [
    "#hyperparamters\n",
    "learning_rate = 0.00000001\n",
    "initial_b = 0\n",
    "initial_m = 0\n",
    "num_iterations = 20"
   ]
  },
  {
   "cell_type": "markdown",
   "metadata": {},
   "source": [
    "#### Define cost function"
   ]
  },
  {
   "cell_type": "code",
   "execution_count": 624,
   "metadata": {},
   "outputs": [],
   "source": [
    "def compute_cost(b, m, points):\n",
    "    total_cost = 0\n",
    "    N = float(len(points))\n",
    "    \n",
    "    #Compute sum of squared errors\n",
    "    for i in range(0, len(points)):\n",
    "        x = points[i, 0]\n",
    "        y = points[i, 1]\n",
    "        total_cost += (y - (m * x + b)) ** 2\n",
    "        \n",
    "    #Return average of squared error\n",
    "    return total_cost/N"
   ]
  },
  {
   "cell_type": "markdown",
   "metadata": {},
   "source": [
    "#### Define Gradient Descent functions"
   ]
  },
  {
   "cell_type": "code",
   "execution_count": 625,
   "metadata": {},
   "outputs": [],
   "source": [
    "def gradient_descent_runner(points, starting_b, starting_m, learning_rate, num_iterations):\n",
    "    b = starting_b\n",
    "    m = starting_m\n",
    "    cost_graph = []\n",
    "\n",
    "    \n",
    "    #For every iteration, optimize b, m and compute its cost\n",
    "    for i in range(num_iterations):\n",
    "        cost_graph.append(compute_cost(b, m, points))\n",
    "        b, m = step_gradient(b, m, array(points), learning_rate)\n",
    "\n",
    "    return [b, m, cost_graph]\n",
    "\n",
    "def step_gradient(b_current, m_current, points, learning_rate):\n",
    "    m_gradient = 0\n",
    "    b_gradient = 0\n",
    "    N = float(len(points))\n",
    "\n",
    "    #Calculate Gradient\n",
    "    for i in range(0, len(points)):\n",
    "        x = points[i, 0]\n",
    "        y = points[i, 1]\n",
    "        m_gradient += - (2/N) * x * (y - (m_current * x + b_current))\n",
    "        b_gradient += - (2/N) * (y - (m_current * x + b_current))\n",
    "    \n",
    "    #Update current m and b\n",
    "    m_updated = m_current - learning_rate * m_gradient\n",
    "    b_updated = b_current - learning_rate * b_gradient\n",
    "\n",
    "    #Return updated parameters\n",
    "    return b_updated, m_updated"
   ]
  },
  {
   "cell_type": "markdown",
   "metadata": {},
   "source": [
    "#### Run gradient_descent_runner() to get optimized parameters b and m"
   ]
  },
  {
   "cell_type": "code",
   "execution_count": 626,
   "metadata": {},
   "outputs": [
    {
     "name": "stdout",
     "output_type": "stream",
     "text": [
      "Optimized b: 0.00031263764800202893\n",
      "Optimized m: 1.3130548166282545\n",
      "Minimized cost: 2922215.518929477\n"
     ]
    }
   ],
   "source": [
    "b, m, cost_graph = gradient_descent_runner(points, initial_b, initial_m, learning_rate, num_iterations)\n",
    "\n",
    "#Print optimized parameters\n",
    "print ('Optimized b:', b)\n",
    "print ('Optimized m:', m)\n",
    "\n",
    "#Print error with optimized parameters\n",
    "print ('Minimized cost:', compute_cost(b, m, points))"
   ]
  },
  {
   "cell_type": "markdown",
   "metadata": {},
   "source": [
    "#### Plotting the cost per iterations"
   ]
  },
  {
   "cell_type": "code",
   "execution_count": 627,
   "metadata": {
    "scrolled": true
   },
   "outputs": [
    {
     "data": {
      "image/png": "[encoded data removed]",
      "text/plain": [
       "<Figure size 432x288 with 1 Axes>"
      ]
     },
     "metadata": {
      "needs_background": "light"
     },
     "output_type": "display_data"
    }
   ],
   "source": [
    "plt.plot(cost_graph)\n",
    "plt.xlabel('No. of iterations')\n",
    "plt.ylabel('Cost')\n",
    "plt.title('Cost per iteration')\n",
    "plt.show()"
   ]
  },
  {
   "cell_type": "markdown",
   "metadata": {},
   "source": [
    "Gradient descent converges to local minimum after 5 iterations"
   ]
  },
  {
   "cell_type": "markdown",
   "metadata": {},
   "source": [
    "#### Plot line of best fit"
   ]
  },
  {
   "cell_type": "code",
   "execution_count": 628,
   "metadata": {},
   "outputs": [
    {
     "name": "stdout",
     "output_type": "stream",
     "text": [
      "1.3130548166282545\n",
      "0.00031263764800202893\n"
     ]
    },
    {
     "data": {
      "image/png": "[encoded data removed]",
      "text/plain": [
       "<Figure size 432x288 with 1 Axes>"
      ]
     },
     "metadata": {
      "needs_background": "light"
     },
     "output_type": "display_data"
    }
   ],
   "source": [
    "#Plot dataset\n",
    "plt.scatter(x, y)\n",
    "#Predict y values\n",
    "pred = m * x + b\n",
    "print(m)\n",
    "#print(x)\n",
    "print(b)\n",
    "\n",
    "#Plot predictions as line of best fit\n",
    "plt.plot(x, pred, c='r')\n",
    "plt.xlabel('followers')\n",
    "plt.ylabel('followers gagnes')\n",
    "plt.title('Line of best fit')\n",
    "plt.show()"
   ]
  },
  {
   "cell_type": "code",
   "execution_count": null,
   "metadata": {},
   "outputs": [],
   "source": [
    "#### RESULTAT EQUATION DROITE"
   ]
  },
  {
   "cell_type": "code",
   "execution_count": 629,
   "metadata": {},
   "outputs": [
    {
     "name": "stdout",
     "output_type": "stream",
     "text": [
      "EQUATION FOLLOWERS GAGNES EN 6 MOIS:\n",
      "1.313055 * Nb Abonnes + 0.000313  \n"
     ]
    }
   ],
   "source": [
    "print (\"{:f} * Nb Abonnes + {:f}  \".format(m, b))\n"
   ]
  },
  {
   "cell_type": "markdown",
   "metadata": {},
   "source": [
    "# LIKES/POST WIN"
   ]
  },
  {
   "cell_type": "code",
   "execution_count": 631,
   "metadata": {},
   "outputs": [],
   "source": [
    "#hyperparamters\n",
    "learning_rate = 0.00000001\n",
    "initial_b = 0\n",
    "initial_m = 0\n",
    "num_iterations = 100"
   ]
  },
  {
   "cell_type": "code",
   "execution_count": 632,
   "metadata": {},
   "outputs": [],
   "source": [
    "points = genfromtxt('likesmoy2.csv', delimiter=',')"
   ]
  },
  {
   "cell_type": "code",
   "execution_count": 633,
   "metadata": {},
   "outputs": [
    {
     "data": {
      "image/png": "[encoded data removed]",
      "text/plain": [
       "<Figure size 432x288 with 1 Axes>"
      ]
     },
     "metadata": {
      "needs_background": "light"
     },
     "output_type": "display_data"
    }
   ],
   "source": [
    "#Extract columns\n",
    "x = array(points[:,0])\n",
    "y = array(points[:,1])\n",
    "\n",
    "\n",
    "#Plot the dataset\n",
    "plt.scatter(x,y)\n",
    "plt.xlabel('folowers')\n",
    "plt.ylabel('followers gagnés')\n",
    "plt.title('Dataset')\n",
    "plt.show()"
   ]
  },
  {
   "cell_type": "code",
   "execution_count": 634,
   "metadata": {},
   "outputs": [
    {
     "name": "stdout",
     "output_type": "stream",
     "text": [
      "Optimized b: 7.970701136046471e-05\n",
      "Optimized m: 0.04292576855204564\n",
      "Minimized cost: 32101.23564771932\n"
     ]
    }
   ],
   "source": [
    "b, m, cost_graph = gradient_descent_runner(points, initial_b, initial_m, learning_rate, num_iterations)\n",
    "\n",
    "#Print optimized parameters\n",
    "print ('Optimized b:', b)\n",
    "print ('Optimized m:', m)\n",
    "\n",
    "#Print error with optimized parameters\n",
    "print ('Minimized cost:', compute_cost(b, m, points))"
   ]
  },
  {
   "cell_type": "code",
   "execution_count": 635,
   "metadata": {},
   "outputs": [
    {
     "data": {
      "image/png": "[encoded data removed]",
      "text/plain": [
       "<Figure size 432x288 with 1 Axes>"
      ]
     },
     "metadata": {
      "needs_background": "light"
     },
     "output_type": "display_data"
    }
   ],
   "source": [
    "plt.plot(cost_graph)\n",
    "plt.xlabel('No. of iterations')\n",
    "plt.ylabel('Cost')\n",
    "plt.title('Cost per iteration')\n",
    "plt.show()"
   ]
  },
  {
   "cell_type": "code",
   "execution_count": 636,
   "metadata": {},
   "outputs": [
    {
     "name": "stdout",
     "output_type": "stream",
     "text": [
      "0.04292576855204564\n",
      "7.970701136046471e-05\n"
     ]
    },
    {
     "data": {
      "image/png": "[encoded data removed]",
      "text/plain": [
       "<Figure size 432x288 with 1 Axes>"
      ]
     },
     "metadata": {
      "needs_background": "light"
     },
     "output_type": "display_data"
    }
   ],
   "source": [
    "#Plot dataset\n",
    "plt.scatter(x, y)\n",
    "#Predict y values\n",
    "pred = m * x + b\n",
    "print(m)\n",
    "#print(x)\n",
    "print(b)\n",
    "\n",
    "#Plot predictions as line of best fit\n",
    "plt.plot(x, pred, c='r')\n",
    "plt.xlabel('followers')\n",
    "plt.ylabel('followers gagnes')\n",
    "plt.title('Line of best fit')\n",
    "plt.show()"
   ]
  },
  {
   "cell_type": "markdown",
   "metadata": {},
   "source": [
    "#### RESULTAT EQUATION DROITE"
   ]
  },
  {
   "cell_type": "code",
   "execution_count": 637,
   "metadata": {},
   "outputs": [
    {
     "name": "stdout",
     "output_type": "stream",
     "text": [
      "EQUATION LIKES PAR POST:\n",
      "0.042926 * Nb Abonnes + 0.000080  \n"
     ]
    }
   ],
   "source": [
    "print (\"{:f} * Nb Abonnes + {:f}  \".format(m, b))"
   ]
  },
  {
   "cell_type": "code",
   "execution_count": null,
   "metadata": {},
   "outputs": [],
   "source": []
  },
  {
   "cell_type": "code",
   "execution_count": null,
   "metadata": {},
   "outputs": [],
   "source": []
  },
  {
   "cell_type": "code",
   "execution_count": null,
   "metadata": {},
   "outputs": [],
   "source": []
  }
 ],
 "metadata": {
  "kernelspec": {
   "display_name": "Python 3",
   "language": "python",
   "name": "python3"
  },
  "language_info": {
   "codemirror_mode": {
    "name": "ipython",
    "version": 3
   },
   "file_extension": ".py",
   "mimetype": "text/x-python",
   "name": "python",
   "nbconvert_exporter": "python",
   "pygments_lexer": "ipython3",
   "version": "3.7.3"
  }
 },
 "nbformat": 4,
 "nbformat_minor": 2
}
